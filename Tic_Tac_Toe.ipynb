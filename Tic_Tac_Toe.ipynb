{
  "nbformat": 4,
  "nbformat_minor": 0,
  "metadata": {
    "colab": {
      "name": "Tic Tac Toe",
      "provenance": [],
      "collapsed_sections": [],
      "authorship_tag": "ABX9TyNEVA9rZZpDdB9i6k/ser2f",
      "include_colab_link": true
    },
    "kernelspec": {
      "name": "python3",
      "display_name": "Python 3"
    }
  },
  "cells": [
    {
      "cell_type": "markdown",
      "metadata": {
        "id": "view-in-github",
        "colab_type": "text"
      },
      "source": [
        "<a href=\"https://colab.research.google.com/github/mukulsingh94868/project-col-/blob/master/Tic_Tac_Toe.ipynb\" target=\"_parent\"><img src=\"https://colab.research.google.com/assets/colab-badge.svg\" alt=\"Open In Colab\"/></a>"
      ]
    },
    {
      "cell_type": "code",
      "metadata": {
        "id": "Z957G8kCRSlg",
        "colab_type": "code",
        "colab": {}
      },
      "source": [
        "from IPython.display import clear_output\n",
        "def display_board(board):\n",
        "    clear_output()\n",
        "    print('   |   |')\n",
        "    print(' ' + board[7] + ' | ' + board[8] + ' | ' + board[9])\n",
        "    print('   |   |')\n",
        "    print('----------')\n",
        "    print('   |   |')\n",
        "    print(' ' + board[4] + ' | ' + board[5] + ' | ' + board[6])\n",
        "    print('   |   |')\n",
        "    print('----------')\n",
        "    print('   |   |')\n",
        "    print(' ' + board[1] + ' | ' + board[2] + ' | ' + board[3])\n",
        "    print('   |   |')"
      ],
      "execution_count": 0,
      "outputs": []
    },
    {
      "cell_type": "code",
      "metadata": {
        "id": "4sTby1y0RgWX",
        "colab_type": "code",
        "colab": {
          "base_uri": "https://localhost:8080/",
          "height": 204
        },
        "outputId": "834935f4-62fa-4a73-cd91-b9c345d60623"
      },
      "source": [
        "test_board = ['#','X','0','X','O','X','O','X','O','X']\n",
        "display_board(test_board)\n",
        "display_board(test_board)"
      ],
      "execution_count": 2,
      "outputs": [
        {
          "output_type": "stream",
          "text": [
            "   |   |\n",
            " X | O | X\n",
            "   |   |\n",
            "----------\n",
            "   |   |\n",
            " O | X | O\n",
            "   |   |\n",
            "----------\n",
            "   |   |\n",
            " X | 0 | X\n",
            "   |   |\n"
          ],
          "name": "stdout"
        }
      ]
    },
    {
      "cell_type": "code",
      "metadata": {
        "id": "r2kxVcqaRpvl",
        "colab_type": "code",
        "colab": {}
      },
      "source": [
        "def player_input():\n",
        "    '''\n",
        "    OUTPUT = (Player 1 marker,Player 2 marker)\n",
        "    '''\n",
        "    \n",
        "    marker = ''\n",
        "    while marker != 'X' and marker !='O':\n",
        "        marker = input('Player1: Choose X and O: ').upper()\n",
        "    if marker == 'X':\n",
        "        return ('X','O')\n",
        "    else:\n",
        "        return('O','X')"
      ],
      "execution_count": 0,
      "outputs": []
    },
    {
      "cell_type": "code",
      "metadata": {
        "id": "TKDqr7NlRvDc",
        "colab_type": "code",
        "colab": {
          "base_uri": "https://localhost:8080/",
          "height": 34
        },
        "outputId": "36c68771-65bf-4aa6-ec1a-cab8b52ad0ab"
      },
      "source": [
        "player1_marker , player2_marker = player_input()"
      ],
      "execution_count": 4,
      "outputs": [
        {
          "output_type": "stream",
          "text": [
            "Player1: Choose X and O: x\n"
          ],
          "name": "stdout"
        }
      ]
    },
    {
      "cell_type": "code",
      "metadata": {
        "id": "BmctAXHvRzzd",
        "colab_type": "code",
        "colab": {
          "base_uri": "https://localhost:8080/",
          "height": 34
        },
        "outputId": "79d98208-b7f9-4b0f-c050-8082d6ff3a04"
      },
      "source": [
        "player1_marker"
      ],
      "execution_count": 5,
      "outputs": [
        {
          "output_type": "execute_result",
          "data": {
            "text/plain": [
              "'X'"
            ]
          },
          "metadata": {
            "tags": []
          },
          "execution_count": 5
        }
      ]
    },
    {
      "cell_type": "code",
      "metadata": {
        "id": "xoi4c0IsSC1B",
        "colab_type": "code",
        "colab": {}
      },
      "source": [
        "def place_marker(board,marker,position):\n",
        "    board[position] = marker"
      ],
      "execution_count": 0,
      "outputs": []
    },
    {
      "cell_type": "code",
      "metadata": {
        "id": "IPw-L0r-SHkI",
        "colab_type": "code",
        "colab": {
          "base_uri": "https://localhost:8080/",
          "height": 204
        },
        "outputId": "983fd065-3483-46c2-a418-b48beac6e12b"
      },
      "source": [
        "place_marker(test_board,'$',8)\n",
        "display_board(test_board)"
      ],
      "execution_count": 7,
      "outputs": [
        {
          "output_type": "stream",
          "text": [
            "   |   |\n",
            " X | $ | X\n",
            "   |   |\n",
            "----------\n",
            "   |   |\n",
            " O | X | O\n",
            "   |   |\n",
            "----------\n",
            "   |   |\n",
            " X | 0 | X\n",
            "   |   |\n"
          ],
          "name": "stdout"
        }
      ]
    },
    {
      "cell_type": "code",
      "metadata": {
        "id": "_YZBx0UlSMG_",
        "colab_type": "code",
        "colab": {
          "base_uri": "https://localhost:8080/",
          "height": 34
        },
        "outputId": "175d6554-94fb-46f9-c0b3-bd59779560d1"
      },
      "source": [
        "test_board"
      ],
      "execution_count": 8,
      "outputs": [
        {
          "output_type": "execute_result",
          "data": {
            "text/plain": [
              "['#', 'X', '0', 'X', 'O', 'X', 'O', 'X', '$', 'X']"
            ]
          },
          "metadata": {
            "tags": []
          },
          "execution_count": 8
        }
      ]
    },
    {
      "cell_type": "code",
      "metadata": {
        "id": "yG35snl8SQQ8",
        "colab_type": "code",
        "colab": {}
      },
      "source": [
        "def win_check(board,mark):\n",
        "    # WIN TIC TAC TOE?\n",
        "    # All ROWS, and check to see if thney all share the same marker?\n",
        "    return ((board[7] == mark and board[8] == mark and board[9] == mark ) or\n",
        "    (board[4] == mark and board[5] == mark and board[6] == mark ) or\n",
        "    (board[1] == mark and board[2] == mark and board[3] == mark ) or\n",
        "    (board[7] == mark and board[4] == mark and board[1] == mark ) or\n",
        "    (board[8] == mark and board[5] == mark and board[2] == mark ) or\n",
        "    (board[9] == mark and board[6] == mark and board[3] == mark ) or\n",
        "    (board[7] == mark and board[5] == mark and board[3] == mark ) or\n",
        "    (board[9] == mark and board[5] == mark and board[1] == mark ))"
      ],
      "execution_count": 0,
      "outputs": []
    },
    {
      "cell_type": "code",
      "metadata": {
        "id": "yhYSn8v_SUiB",
        "colab_type": "code",
        "colab": {
          "base_uri": "https://localhost:8080/",
          "height": 34
        },
        "outputId": "dd42dde6-f236-488e-ff77-05833888505a"
      },
      "source": [
        "win_check(test_board,'X')"
      ],
      "execution_count": 10,
      "outputs": [
        {
          "output_type": "execute_result",
          "data": {
            "text/plain": [
              "True"
            ]
          },
          "metadata": {
            "tags": []
          },
          "execution_count": 10
        }
      ]
    },
    {
      "cell_type": "code",
      "metadata": {
        "id": "qKL8anwlSY6O",
        "colab_type": "code",
        "colab": {
          "base_uri": "https://localhost:8080/",
          "height": 221
        },
        "outputId": "e52118f6-9414-4ba5-97e1-f16c8c0604c3"
      },
      "source": [
        "display_board(test_board)\n",
        "win_check(test_board,'X')"
      ],
      "execution_count": 11,
      "outputs": [
        {
          "output_type": "stream",
          "text": [
            "   |   |\n",
            " X | $ | X\n",
            "   |   |\n",
            "----------\n",
            "   |   |\n",
            " O | X | O\n",
            "   |   |\n",
            "----------\n",
            "   |   |\n",
            " X | 0 | X\n",
            "   |   |\n"
          ],
          "name": "stdout"
        },
        {
          "output_type": "execute_result",
          "data": {
            "text/plain": [
              "True"
            ]
          },
          "metadata": {
            "tags": []
          },
          "execution_count": 11
        }
      ]
    },
    {
      "cell_type": "code",
      "metadata": {
        "id": "PDvGv_slSdNt",
        "colab_type": "code",
        "colab": {}
      },
      "source": [
        "import random\n",
        "def choose_first():\n",
        "    flip = random.randint(0,1)\n",
        "    if flip == 0:\n",
        "        return 'Player 1'\n",
        "    else:\n",
        "        return 'Player 2'"
      ],
      "execution_count": 0,
      "outputs": []
    },
    {
      "cell_type": "code",
      "metadata": {
        "id": "IMTSl48NSglv",
        "colab_type": "code",
        "colab": {}
      },
      "source": [
        "def space_check(board, position):\n",
        "    return board[position] ==' '"
      ],
      "execution_count": 0,
      "outputs": []
    },
    {
      "cell_type": "code",
      "metadata": {
        "id": "rDPmiBLHSlGJ",
        "colab_type": "code",
        "colab": {}
      },
      "source": [
        "def full_board_check(board):\n",
        "    for i in range(1,10):\n",
        "        if space_check(board,i):\n",
        "            return False\n",
        "    # BOARD IS FULL IS WE RETURN TRUE\n",
        "    return True"
      ],
      "execution_count": 0,
      "outputs": []
    },
    {
      "cell_type": "code",
      "metadata": {
        "id": "lPj0KGhzSo_0",
        "colab_type": "code",
        "colab": {}
      },
      "source": [
        "def player_choice(board):\n",
        "    position = 0\n",
        "    while position not in [1,2,3,4,5,6,7,8,9] or not space_check(board,position):\n",
        "        position = int(input('choose a position: (1-9) '))\n",
        "    return position   "
      ],
      "execution_count": 0,
      "outputs": []
    },
    {
      "cell_type": "code",
      "metadata": {
        "id": "AD-GK9orSuPr",
        "colab_type": "code",
        "colab": {}
      },
      "source": [
        "def replay():\n",
        "    choice = input(\"Play again? Enter Yes or No\")\n",
        "    return choice == 'yes'"
      ],
      "execution_count": 0,
      "outputs": []
    },
    {
      "cell_type": "code",
      "metadata": {
        "id": "n6qcjAS0Szpv",
        "colab_type": "code",
        "colab": {
          "base_uri": "https://localhost:8080/",
          "height": 73
        },
        "outputId": "f42ec72d-21bf-4991-ed43-1820d8414e76"
      },
      "source": [
        "print('Welcome to Tic Tac Toe!')\n",
        "while True:\n",
        "    the_board = [' ']*10\n",
        "    player1_marker,player2_marker = player_input()\n",
        "    turn = choose_first()\n",
        "    print(turn + 'will go first')\n",
        "    play_game = input('Ready to play?y or n?')\n",
        "    if play_game == 'y':\n",
        "        game_on = True\n",
        "    else:\n",
        "        game_on = False\n",
        "    while game_on:\n",
        "        if turn == 'Player 1':\n",
        "            # show the board\n",
        "            display_board(the_board)\n",
        "            # choose a position\n",
        "            position = player_choice(the_board)\n",
        "            # place the marker on the position\n",
        "            place_marker(the_board,player1_marker,position)\n",
        "            # check if they won \n",
        "            if win_check(the_board,player1_marker):\n",
        "                display_board(the_board)\n",
        "                print(\"PLAYER1 HAS WON!!\")\n",
        "                game_on = False\n",
        "            else:\n",
        "                if full_board_check(the_board):\n",
        "                    display_board(the_board)\n",
        "                    print(\"TIE GAME!\")\n",
        "                    game_on = False\n",
        "                else:\n",
        "                    turn = 'Player 2'\n",
        "            # or check if there is a tie\n",
        "            \n",
        "            \n",
        "            # no tie and no win? then next player's turn\n",
        "         ### PLAYER ONE TURN\n",
        "        else:\n",
        "             # show the board\n",
        "            display_board(the_board)\n",
        "            # choose a position\n",
        "            position = player_choice(the_board)\n",
        "            # place the marker on the position\n",
        "            place_marker(the_board,player2_marker,position)\n",
        "            # check if they won \n",
        "            if win_check(the_board,player2_marker):\n",
        "                display_board(the_board)\n",
        "                print(\"PLAYER 2 HAS WON!!\")\n",
        "                game_on = False\n",
        "            else:\n",
        "                if full_board_check(the_board):\n",
        "                    display_board(the_board)\n",
        "                    print(\"TIE GAME!\")\n",
        "                    game_on = False\n",
        "                else:\n",
        "                    turn = 'Player 1'\n",
        "    if not reply():\n",
        "        break\n",
        "     # BREAK OUT ON THE WHILE LOOP ON REPLAY()  "
      ],
      "execution_count": 0,
      "outputs": [
        {
          "output_type": "stream",
          "text": [
            "Welcome to Tic Tac Toe!\n"
          ],
          "name": "stdout"
        }
      ]
    },
    {
      "cell_type": "code",
      "metadata": {
        "id": "cwHXn6VeS7zr",
        "colab_type": "code",
        "colab": {}
      },
      "source": [
        ""
      ],
      "execution_count": 0,
      "outputs": []
    }
  ]
}