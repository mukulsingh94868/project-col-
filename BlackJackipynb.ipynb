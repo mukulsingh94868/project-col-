{
  "nbformat": 4,
  "nbformat_minor": 0,
  "metadata": {
    "colab": {
      "name": "BlackJackipynb",
      "provenance": [],
      "collapsed_sections": [],
      "authorship_tag": "ABX9TyN/td6A2RUt/9FvtwoWIHZW",
      "include_colab_link": true
    },
    "kernelspec": {
      "name": "python3",
      "display_name": "Python 3"
    }
  },
  "cells": [
    {
      "cell_type": "markdown",
      "metadata": {
        "id": "view-in-github",
        "colab_type": "text"
      },
      "source": [
        "<a href=\"https://colab.research.google.com/github/mukulsingh94868/project-col-/blob/master/BlackJackipynb.ipynb\" target=\"_parent\"><img src=\"https://colab.research.google.com/assets/colab-badge.svg\" alt=\"Open In Colab\"/></a>"
      ]
    },
    {
      "cell_type": "code",
      "metadata": {
        "id": "t7_nQFAJ_a88",
        "colab_type": "code",
        "colab": {}
      },
      "source": [
        "import random\n",
        "suits = ('Hearts','Diamonds','Spades','Clubs')\n",
        "ranks = ('Two','Three','Four','Five','Six','Seven','Eight','Nine','Ten','Jack','Queen','King','Ace')\n",
        "values = {'Two':2,'Three':3,'Four':4,'Five':5,'Six':6,'Seven':7,'Eight':8,'Nine':9,'Ten':10,'Jack':10,'Queen':10,'King':10,'Ace':10}\n",
        "playing = True"
      ],
      "execution_count": 0,
      "outputs": []
    },
    {
      "cell_type": "code",
      "metadata": {
        "id": "Xd4JtOSZXtH5",
        "colab_type": "code",
        "colab": {}
      },
      "source": [
        "class Card():\n",
        "  def __init__(self,suit,rank):\n",
        "    self.suit = suit\n",
        "    self.rank = rank\n",
        "  def __str__(self):\n",
        "    return self.rank+ \" of \"+self.suit  \n"
      ],
      "execution_count": 0,
      "outputs": []
    },
    {
      "cell_type": "code",
      "metadata": {
        "id": "gHKLwasHUjXZ",
        "colab_type": "code",
        "colab": {}
      },
      "source": [
        "class Deck:\n",
        "  def __init__(self):\n",
        "      self.deck = []  # starts with an empty list\n",
        "      for suit in suits:\n",
        "          for rank in ranks:\n",
        "              self.deck.append(Card(suit,rank))\n",
        "  def __str__(self):\n",
        "    deck_comp = ''\n",
        "    for card in self.deck:\n",
        "      deck_comp += '\\n'+ card.__str__()\n",
        "    return \"the dark has: \"+deck_comp\n",
        "  def shuffle(self):\n",
        "    random.shuffle(self.deck)\n",
        "  def deal(self):\n",
        "    single_card = self.deck.pop()\n",
        "    return single_card            "
      ],
      "execution_count": 0,
      "outputs": []
    },
    {
      "cell_type": "code",
      "metadata": {
        "id": "eYc815aaV3P9",
        "colab_type": "code",
        "outputId": "133c5b5d-2a6c-4e5e-b83f-2b8419c7ed2c",
        "colab": {
          "base_uri": "https://localhost:8080/",
          "height": 918
        }
      },
      "source": [
        "test_deck = Deck()\n",
        "test_deck.shuffle()\n",
        "print(test_deck)"
      ],
      "execution_count": 6,
      "outputs": [
        {
          "output_type": "stream",
          "text": [
            "the dark has: \n",
            "King of Diamonds\n",
            "Two of Diamonds\n",
            "Two of Clubs\n",
            "Five of Diamonds\n",
            "Eight of Diamonds\n",
            "Eight of Spades\n",
            "Nine of Diamonds\n",
            "Jack of Hearts\n",
            "Four of Diamonds\n",
            "Nine of Spades\n",
            "Queen of Hearts\n",
            "Ace of Hearts\n",
            "Ace of Spades\n",
            "Three of Diamonds\n",
            "Queen of Spades\n",
            "Five of Spades\n",
            "Nine of Clubs\n",
            "Eight of Clubs\n",
            "Three of Spades\n",
            "King of Spades\n",
            "Ten of Hearts\n",
            "Ten of Clubs\n",
            "Seven of Clubs\n",
            "Seven of Spades\n",
            "Five of Clubs\n",
            "Ten of Spades\n",
            "Three of Clubs\n",
            "Seven of Hearts\n",
            "Eight of Hearts\n",
            "Six of Clubs\n",
            "Ten of Diamonds\n",
            "Six of Hearts\n",
            "Jack of Spades\n",
            "Jack of Clubs\n",
            "Seven of Diamonds\n",
            "Three of Hearts\n",
            "Ace of Diamonds\n",
            "Four of Hearts\n",
            "Nine of Hearts\n",
            "Four of Spades\n",
            "Jack of Diamonds\n",
            "Four of Clubs\n",
            "Queen of Diamonds\n",
            "Six of Diamonds\n",
            "Two of Hearts\n",
            "Queen of Clubs\n",
            "King of Clubs\n",
            "Two of Spades\n",
            "Five of Hearts\n",
            "Ace of Clubs\n",
            "King of Hearts\n",
            "Six of Spades\n"
          ],
          "name": "stdout"
        }
      ]
    },
    {
      "cell_type": "code",
      "metadata": {
        "id": "6rjbVdKwWD26",
        "colab_type": "code",
        "colab": {}
      },
      "source": [
        "class Hand:\n",
        "  def __init__(self):\n",
        "    self.cards = []  # starts with an empty list as we did in the deck class\n",
        "    self.value = 0   # starts with zero value\n",
        "    self.aces = 0     # add an attribute to keep track of aces\n",
        "  def add_card(self,card):\n",
        "    # card passed in\n",
        "    # from deck.deal() --> single card(suit,rank)\n",
        "    self.cards.append(card)\n",
        "    self.value += values[card.rank]\n",
        "\n",
        "\n",
        "    # track aces\n",
        "    if card.rank =='Ace':\n",
        "      self.aces += 1\n",
        "\n",
        "  def adjust_for_ace(self):\n",
        "    # IF TOTAL VALUE > 21 AND I STILL HAVE AN ACE\n",
        "    # THAN CHANGE MY ACE TO BE A 1 INSTEAD OF AN 11\n",
        "    while self.value > 21 and self.aces:\n",
        "      self.value -= 10\n",
        "      self.aces -= 1    "
      ],
      "execution_count": 0,
      "outputs": []
    },
    {
      "cell_type": "code",
      "metadata": {
        "id": "ET_O_GthZWR1",
        "colab_type": "code",
        "colab": {}
      },
      "source": [
        "zero = 0\n",
        "one = 1\n",
        "two = 2"
      ],
      "execution_count": 0,
      "outputs": []
    },
    {
      "cell_type": "code",
      "metadata": {
        "id": "JlI681B3aYKG",
        "colab_type": "code",
        "outputId": "1fa779a7-3e89-4e3d-a3ee-006b682124f5",
        "colab": {
          "base_uri": "https://localhost:8080/",
          "height": 34
        }
      },
      "source": [
        "if 2:\n",
        "  print('TRUE')"
      ],
      "execution_count": 9,
      "outputs": [
        {
          "output_type": "stream",
          "text": [
            "TRUE\n"
          ],
          "name": "stdout"
        }
      ]
    },
    {
      "cell_type": "code",
      "metadata": {
        "id": "ex_SSWIZacCy",
        "colab_type": "code",
        "outputId": "cf455bd9-8281-4aff-c5d8-e485098c1014",
        "colab": {
          "base_uri": "https://localhost:8080/",
          "height": 51
        }
      },
      "source": [
        "test_deck = Deck()\n",
        "test_deck.shuffle()\n",
        "# player\n",
        "test_player = Hand()\n",
        "# deal 1 card from the deck card(suit,rank)\n",
        "pulled_card = test_deck.deal()\n",
        "print(pulled_card)\n",
        "test_player.add_card(pulled_card)\n",
        "print(test_player.value)"
      ],
      "execution_count": 10,
      "outputs": [
        {
          "output_type": "stream",
          "text": [
            "King of Diamonds\n",
            "10\n"
          ],
          "name": "stdout"
        }
      ]
    },
    {
      "cell_type": "code",
      "metadata": {
        "id": "vYb3UEqha7VT",
        "colab_type": "code",
        "colab": {}
      },
      "source": [
        "test_player.add_card(test_deck.deal())\n"
      ],
      "execution_count": 0,
      "outputs": []
    },
    {
      "cell_type": "code",
      "metadata": {
        "id": "EyImmlXEbFCs",
        "colab_type": "code",
        "outputId": "139d51fc-68f8-4c3b-be48-afd0897bd87d",
        "colab": {
          "base_uri": "https://localhost:8080/",
          "height": 34
        }
      },
      "source": [
        "test_player.value"
      ],
      "execution_count": 12,
      "outputs": [
        {
          "output_type": "execute_result",
          "data": {
            "text/plain": [
              "20"
            ]
          },
          "metadata": {
            "tags": []
          },
          "execution_count": 12
        }
      ]
    },
    {
      "cell_type": "code",
      "metadata": {
        "id": "RieDcy4ibI2y",
        "colab_type": "code",
        "colab": {}
      },
      "source": [
        "class Chips:\n",
        "  def __init__(self,total=100):\n",
        "    self.total = total  # this can be set to a default value or supplied by a user input\n",
        "    self.bet = 0\n",
        "  def win_bet(self):\n",
        "    self.total += self.bet\n",
        "  def lose_bet(self):\n",
        "    self.total -= self.bet    "
      ],
      "execution_count": 0,
      "outputs": []
    },
    {
      "cell_type": "code",
      "metadata": {
        "id": "PSxBzAgDb3-D",
        "colab_type": "code",
        "colab": {}
      },
      "source": [
        "def take_bet(chips):\n",
        "  while True:\n",
        "    try:\n",
        "      chips.bet = int(input(\"How many chips would you like to bet?\"))\n",
        "    except:\n",
        "      print(\"Sorry please provide an integer\")\n",
        "    else:\n",
        "      if chips.bet > chips.total:\n",
        "        print('Sorry,you do not have enough chips! you have:{}'.format(chips.total))\n",
        "      else:\n",
        "        break      "
      ],
      "execution_count": 0,
      "outputs": []
    },
    {
      "cell_type": "code",
      "metadata": {
        "id": "PUaQMG3t-r0X",
        "colab_type": "code",
        "colab": {}
      },
      "source": [
        "def hit(deck,hand):\n",
        "  single_card = deck.deal()\n",
        "  hand.add_card(single_card)\n",
        "  hand.adjust_for_ace()"
      ],
      "execution_count": 0,
      "outputs": []
    },
    {
      "cell_type": "code",
      "metadata": {
        "id": "FmfXvpVV_WSt",
        "colab_type": "code",
        "colab": {}
      },
      "source": [
        "def hit_or_stand(deck,hand):\n",
        "  global playing # to control an upcoming while loop\n",
        "\n",
        "  while True:\n",
        "    x = input('Hit or stand?Enter h or s')  # hit # hh # stand\n",
        "    if x[0].lower() == 'h':\n",
        "      hit(deck,hand)\n",
        "    elif x[0].lower() == 's':\n",
        "      print(\"player stands dealer's turn\")\n",
        "      playing = False\n",
        "    else:\n",
        "      print(\"Sorry,I did no understand that,Please enter h or s only\")\n",
        "      continue     \n",
        "    break  "
      ],
      "execution_count": 0,
      "outputs": []
    },
    {
      "cell_type": "code",
      "metadata": {
        "id": "iEmogoyHAmQL",
        "colab_type": "code",
        "colab": {}
      },
      "source": [
        "def show_some(player,dealer):\n",
        "  print(\"DEALERS HAND:\")\n",
        "  print('one card hidden')\n",
        "  print(dealer.cards[1])\n",
        "  print('\\n')\n",
        "  print('PLAYERS HAND:')\n",
        "  for card in player.cards:\n",
        "    print(card)\n",
        "def show_all(player,dealer):\n",
        "  print('DEALERS HAND:')\n",
        "  for card in dealer.cards:\n",
        "    print(card)\n",
        "  print('\\n')\n",
        "  print('PLAYER HAND:')\n",
        "  for card in player.cards:\n",
        "    print(card)      "
      ],
      "execution_count": 0,
      "outputs": []
    },
    {
      "cell_type": "code",
      "metadata": {
        "id": "vja3xSAGCQly",
        "colab_type": "code",
        "colab": {}
      },
      "source": [
        "def player_busts(player,dealer,chips):\n",
        "  print(\"BUST PLAYER!\")\n",
        "  chips.lose_bet()\n",
        "def player_wins(player,dealer,chips):\n",
        "  print('PLAYER WINS1')\n",
        "  chips.win_bet()\n",
        "def dealer_busts(player,dealer,chips):\n",
        "  print('PLAYER WINS! DEALER BUSTED!')\n",
        "  chips.win_bet()\n",
        "def dealer_wins(player,dealer,chips):\n",
        "  print(\"DEALER WINS!\")\n",
        "  chips.lose_bet()\n",
        "def push(player,dealer):\n",
        "  print('Dealer and player tie! PUSH')        "
      ],
      "execution_count": 0,
      "outputs": []
    },
    {
      "cell_type": "code",
      "metadata": {
        "id": "pd8UViC5FFqz",
        "colab_type": "code",
        "outputId": "17650b13-a378-4346-f893-a700c45c6b6d",
        "colab": {
          "base_uri": "https://localhost:8080/",
          "height": 1000
        }
      },
      "source": [
        "## and now on the game!!\n",
        "while True:\n",
        "  # print an opening statement\n",
        "  print(\"WELCOME TO THE BLACKJACK\")\n",
        "  # create and shuffle the deck,deal teo cards to each player\n",
        "  deck = Deck()\n",
        "  deck.shuffle()\n",
        "\n",
        "  player_hand = Hand()\n",
        "  player_hand.add_card(deck.deal())\n",
        "  player_hand.add_card(deck.deal())\n",
        "\n",
        "  dealer_hand = Hand()\n",
        "  dealer_hand.add_card(deck.deal())\n",
        "  dealer_hand.add_card(deck.deal())\n",
        "\n",
        "  # set up the player's chips\n",
        "  player_chips = Chips()\n",
        "\n",
        "  # prompt the player for their bet\n",
        "  take_bet(player_chips)\n",
        "\n",
        "  # show cards (but keep ane dealer card hidden)\n",
        "  show_some(player_hand,dealer_hand)\n",
        "\n",
        "  while playing:  # recall this variable from our hit_or_stand function\n",
        "      # prompt for player to hit or stand\n",
        "      hit_or_stand(deck,player_hand)\n",
        "\n",
        "      # show cards(but keep one dealer card hidden)\n",
        "      show_some(player_hand,dealer_hand)\n",
        "\n",
        "      # if player's hand exceeds 21,run player_busts() and breaks out of loop\n",
        "      if player_hand.value > 21:\n",
        "        player_busts(player_hand,deal)\n",
        "        break\n",
        "\n",
        "      # if player hasn't busted,play dealer's hand until dealer reaches 17\n",
        "      if player_hand.value <= 21:\n",
        "\n",
        "        while dealer_hand.value < player_hand.value:\n",
        "          hit(deck,dealer_hand)\n",
        "\n",
        "        # show all cards\n",
        "        show_all(player_hand,dealer_hand)\n",
        "\n",
        "        # run different winning scenarios\n",
        "        if dealer_hand.value > 21:\n",
        "          dealer_busts(player_hand,dealer_hand,player_chips)\n",
        "        elif dealer_hand.value > player_hand.value:\n",
        "          dealer_wins(player_hand,dealer_hand,player_chips)\n",
        "        elif dealer_hand.value < player_hand.value:\n",
        "          player_wins(player_hand,dealer_hand,player_chips)\n",
        "        else:\n",
        "          push(player_hand,dealer_hand)\n",
        "      # inform player of their chips total\n",
        "      print('\\n player total chips are at:{}'.format(player_chips.total))\n",
        "      # ask to play again\n",
        "      new_game = input(\"would you like to play another hand? y/n\")\n",
        "\n",
        "      if new_game[0].lower() == 'y':\n",
        "        playing = True\n",
        "        continue\n",
        "      else:\n",
        "        print('Thank you for play')    \n",
        "\n"
      ],
      "execution_count": 0,
      "outputs": [
        {
          "output_type": "stream",
          "text": [
            "WELCOME TO THE BLACKJACK\n",
            "Sorry,you do not have enough chips! you have:100\n",
            "DEALERS HAND:\n",
            "one card hidden\n",
            "Five of Spades\n",
            "\n",
            "\n",
            "PLAYERS HAND:\n",
            "Nine of Clubs\n",
            "Ace of Diamonds\n",
            "player stands dealer's turn\n",
            "DEALERS HAND:\n",
            "one card hidden\n",
            "Five of Spades\n",
            "\n",
            "\n",
            "PLAYERS HAND:\n",
            "Nine of Clubs\n",
            "Ace of Diamonds\n",
            "DEALERS HAND:\n",
            "Four of Hearts\n",
            "Five of Spades\n",
            "King of Hearts\n",
            "\n",
            "\n",
            "PLAYER HAND:\n",
            "Nine of Clubs\n",
            "Ace of Diamonds\n",
            "Dealer and player tie! PUSH\n",
            "\n",
            " player total chips are at:100\n",
            "Thank you for play\n",
            "WELCOME TO THE BLACKJACK\n",
            "DEALERS HAND:\n",
            "one card hidden\n",
            "King of Spades\n",
            "\n",
            "\n",
            "PLAYERS HAND:\n",
            "Ten of Spades\n",
            "Seven of Diamonds\n",
            "WELCOME TO THE BLACKJACK\n",
            "DEALERS HAND:\n",
            "one card hidden\n",
            "Ten of Hearts\n",
            "\n",
            "\n",
            "PLAYERS HAND:\n",
            "Jack of Hearts\n",
            "Queen of Clubs\n",
            "WELCOME TO THE BLACKJACK\n",
            "DEALERS HAND:\n",
            "one card hidden\n",
            "Seven of Hearts\n",
            "\n",
            "\n",
            "PLAYERS HAND:\n",
            "Ace of Hearts\n",
            "King of Spades\n",
            "WELCOME TO THE BLACKJACK\n"
          ],
          "name": "stdout"
        }
      ]
    },
    {
      "cell_type": "code",
      "metadata": {
        "colab_type": "code",
        "id": "sDbHtPDeGMqf",
        "colab": {}
      },
      "source": [
        ""
      ],
      "execution_count": 0,
      "outputs": []
    }
  ]
}